{
 "cells": [
  {
   "cell_type": "code",
   "execution_count": 1,
   "metadata": {
    "id": "Oh5e6MKqL8j5"
   },
   "outputs": [],
   "source": [
    "import pandas as panda\n",
    "from sklearn.model_selection import train_test_split\n",
    "from sklearn.preprocessing import LabelEncoder, MinMaxScaler\n",
    "from sklearn.ensemble import RandomForestClassifier\n",
    "from sklearn.metrics import classification_report\n",
    "from sklearn.impute import SimpleImputer\n",
    "\n",
    "import matplotlib.pyplot as plt\n",
    "import seaborn as sns"
   ]
  },
  {
   "cell_type": "code",
   "execution_count": 2,
   "metadata": {
    "colab": {
     "base_uri": "https://localhost:8080/"
    },
    "id": "qpjUEpA-eQQr",
    "outputId": "a70dcbc7-804a-42f6-9a6c-fb0b60e53c87"
   },
   "outputs": [],
   "source": [
    "#Mount GDrive data\n",
    "#from google.colab import drive\n",
    "#drive.mount('/content/drive')"
   ]
  },
  {
   "cell_type": "code",
   "execution_count": 3,
   "metadata": {
    "colab": {
     "base_uri": "https://localhost:8080/"
    },
    "id": "p2y0bOlgf39t",
    "outputId": "a34e67fa-9497-4445-bc16-45f2a08374be"
   },
   "outputs": [
    {
     "name": "stdout",
     "output_type": "stream",
     "text": [
      "     Unnamed: 0.1  Unnamed: 0  \\\n",
      "0               0           0   \n",
      "1               1           1   \n",
      "2               2           2   \n",
      "3               3           3   \n",
      "4               4           4   \n",
      "..            ...         ...   \n",
      "727           728         732   \n",
      "728           729         733   \n",
      "729           730         734   \n",
      "730           731         735   \n",
      "731           732         736   \n",
      "\n",
      "                                                  Text    Sentiment  \\\n",
      "0     Enjoying a beautiful day at the park!        ...   Positive     \n",
      "1     Traffic was terrible this morning.           ...   Negative     \n",
      "2     Just finished an amazing workout! 💪          ...   Positive     \n",
      "3     Excited about the upcoming weekend getaway!  ...   Positive     \n",
      "4     Trying out a new recipe for dinner tonight.  ...   Neutral      \n",
      "..                                                 ...          ...   \n",
      "727  Collaborating on a science project that receiv...       Happy    \n",
      "728  Attending a surprise birthday party organized ...       Happy    \n",
      "729  Successfully fundraising for a school charity ...       Happy    \n",
      "730  Participating in a multicultural festival, cel...       Happy    \n",
      "731  Organizing a virtual talent show during challe...       Happy    \n",
      "\n",
      "               Timestamp                                   User     Platform  \\\n",
      "0    2023-01-15 12:30:00                          User123          Twitter     \n",
      "1    2023-01-15 08:45:00                          CommuterX        Twitter     \n",
      "2    2023-01-15 15:45:00                          FitnessFan      Instagram    \n",
      "3    2023-01-15 18:20:00                          AdventureX       Facebook    \n",
      "4    2023-01-15 19:55:00                          ChefCook        Instagram    \n",
      "..                   ...                                    ...          ...   \n",
      "727  2017-08-18 18:20:00       ScienceProjectSuccessHighSchool     Facebook    \n",
      "728  2018-06-22 14:15:00            BirthdayPartyJoyHighSchool    Instagram    \n",
      "729  2019-04-05 17:30:00   CharityFundraisingTriumphHighSchool      Twitter    \n",
      "730  2020-02-29 20:45:00    MulticulturalFestivalJoyHighSchool     Facebook    \n",
      "731  2020-11-15 15:15:00    VirtualTalentShowSuccessHighSchool    Instagram    \n",
      "\n",
      "                                          Hashtags  Retweets  Likes  \\\n",
      "0        #Nature #Park                                  15.0   30.0   \n",
      "1        #Traffic #Morning                               5.0   10.0   \n",
      "2        #Fitness #Workout                              20.0   40.0   \n",
      "3        #Travel #Adventure                              8.0   15.0   \n",
      "4        #Cooking #Food                                 12.0   25.0   \n",
      "..                                             ...       ...    ...   \n",
      "727         #ScienceFairWinner #HighSchoolScience       20.0   39.0   \n",
      "728    #SurpriseCelebration #HighSchoolFriendship       25.0   48.0   \n",
      "729      #CommunityGiving #HighSchoolPhilanthropy       22.0   42.0   \n",
      "730         #CulturalCelebration #HighSchoolUnity       21.0   43.0   \n",
      "731   #VirtualEntertainment #HighSchoolPositivity       24.0   47.0   \n",
      "\n",
      "          Country  Year  Month  Day  Hour  \n",
      "0       USA        2023      1   15    12  \n",
      "1       Canada     2023      1   15     8  \n",
      "2     USA          2023      1   15    15  \n",
      "3       UK         2023      1   15    18  \n",
      "4      Australia   2023      1   15    19  \n",
      "..            ...   ...    ...  ...   ...  \n",
      "727            UK  2017      8   18    18  \n",
      "728           USA  2018      6   22    14  \n",
      "729        Canada  2019      4    5    17  \n",
      "730            UK  2020      2   29    20  \n",
      "731           USA  2020     11   15    15  \n",
      "\n",
      "[732 rows x 15 columns]\n"
     ]
    }
   ],
   "source": [
    "#Load the dataset\n",
    "#dataset_path = '/content/drive/My Drive/Datasets/SocialMediaUserEngagement/sentimentdataset.csv'\n",
    "#df = panda.read_csv(dataset_path)\n",
    "df=panda.read_csv('sentimentdataset.csv')\n",
    "print(df) #Testing if the data is being accessed properly or not"
   ]
  },
  {
   "cell_type": "code",
   "execution_count": 4,
   "metadata": {
    "id": "l-FAI30ZhaD-"
   },
   "outputs": [],
   "source": [
    "#Data Preprocessing\n",
    "#Converting timestamp to datetime format to extract the Time_of_Day\n",
    "df['Timestamp'] = panda.to_datetime(df['Timestamp'])\n",
    "#df['Time_of_Day'] = df['Timestamp'].dt.hour.apply(lambda x: 'DAY' if 6 <= x < 18 else 'NIGHT')\n",
    "df['Time_of_Day'] = df['Timestamp'].dt.hour.apply(lambda x: 0 if 6 <= x < 18 else 1)\n"
   ]
  },
  {
   "cell_type": "code",
   "execution_count": 5,
   "metadata": {
    "id": "O-NdBxqHhum7"
   },
   "outputs": [],
   "source": [
    "#Encode hashtags for analysis\n",
    "lab_enc = LabelEncoder()\n",
    "df['Hashtags'] = lab_enc.fit_transform(df['Hashtags'])"
   ]
  },
  {
   "cell_type": "code",
   "execution_count": 6,
   "metadata": {
    "id": "DaqSBtgEjOgS"
   },
   "outputs": [],
   "source": [
    "#Normalising Likes and Retweets\n",
    "scale = MinMaxScaler()\n",
    "df[['Likes', 'Retweets']] = scale.fit_transform(df[['Likes', 'Retweets']])"
   ]
  },
  {
   "cell_type": "code",
   "execution_count": 7,
   "metadata": {},
   "outputs": [
    {
     "name": "stdout",
     "output_type": "stream",
     "text": [
      "Distinct Sentiments: [' Positive  ' ' Negative  ' ' Neutral   ' ' Anger        '\n",
      " ' Fear         ' ' Sadness      ' ' Disgust      ' ' Happiness    '\n",
      " ' Joy          ' ' Love         ' ' Amusement    ' ' Enjoyment    '\n",
      " ' Admiration   ' ' Affection    ' ' Awe          ' ' Disappointed '\n",
      " ' Surprise     ' ' Acceptance   ' ' Adoration    ' ' Anticipation '\n",
      " ' Bitter       ' ' Calmness     ' ' Confusion    ' ' Excitement   '\n",
      " ' Kind         ' ' Pride        ' ' Shame        ' ' Confusion '\n",
      " ' Excitement ' ' Shame ' ' Elation       ' ' Euphoria      '\n",
      " ' Contentment   ' ' Serenity      ' ' Gratitude     ' ' Hope          '\n",
      " ' Empowerment   ' ' Compassion    ' ' Tenderness    ' ' Arousal       '\n",
      " ' Enthusiasm    ' ' Fulfillment  ' ' Reverence     ' ' Compassion'\n",
      " ' Fulfillment   ' ' Reverence ' ' Elation   ' ' Despair         '\n",
      " ' Grief           ' ' Loneliness      ' ' Jealousy        '\n",
      " ' Resentment      ' ' Frustration     ' ' Boredom         '\n",
      " ' Anxiety         ' ' Intimidation    ' ' Helplessness    '\n",
      " ' Envy            ' ' Regret         ' ' Disgust         '\n",
      " ' Despair      ' ' Loneliness ' ' Frustration ' ' Anxiety   '\n",
      " ' Intimidation ' ' Helplessness ' ' Jealousy    ' ' Curiosity       '\n",
      " ' Indifference    ' ' Confusion       ' ' Numbness        '\n",
      " ' Melancholy      ' ' Nostalgia       ' ' Ambivalence     '\n",
      " ' Acceptance      ' ' Determination   ' ' Serenity        ' ' Numbness '\n",
      " ' Zest ' ' Contentment ' ' Hopeful ' ' Proud ' ' Grateful '\n",
      " ' Empathetic ' ' Compassionate ' ' Playful ' ' Free-spirited '\n",
      " ' Inspired ' ' Confident ' ' Serenity ' ' Curiosity ' ' Ambivalence '\n",
      " ' Despair ' ' Bitterness ' ' Yearning ' ' Fearful ' ' Apprehensive '\n",
      " ' Overwhelmed ' ' Jealous ' ' Devastated ' ' Frustrated ' ' Envious '\n",
      " ' Dismissive ' ' Awe           ' ' Determination ' ' Nostalgia      '\n",
      " ' Thrill        ' ' Calmness      ' ' Overwhelmed   ' ' Gratitude   '\n",
      " ' Bittersweet ' ' Curiosity     ' ' Admiration    ' ' Overjoyed     '\n",
      " ' Inspiration   ' ' Motivation    ' ' Amusement     ' ' Contemplation '\n",
      " ' JoyfulReunion ' ' Excitement    ' ' Satisfaction  ' ' Blessed       '\n",
      " ' Anticipation  ' ' Reflection    ' ' Nostalgia     ' ' Appreciation  '\n",
      " ' Confidence    ' ' Surprise      ' ' Accomplishment ' ' Wonderment    '\n",
      " ' Optimism      ' ' Pride         ' ' Happiness     ' ' Curiosity   '\n",
      " ' Enchantment   ' ' Intrigue      ' ' PlayfulJoy    ' ' Mindfulness   '\n",
      " ' DreamChaser   ' ' Elegance ' ' Whimsy        ' ' Pensive '\n",
      " ' Thrill      ' ' Harmony    ' ' Creativity   ' ' Radiance    '\n",
      " ' Wonder     ' ' Rejuvenation ' ' Inspiration ' ' Coziness     '\n",
      " ' Gratitude  ' ' Adventure ' ' Euphoria   ' ' Awe    ' ' Melodic       '\n",
      " ' FestiveJoy    ' ' InnerJourney  ' ' Freedom       ' ' Dazzle        '\n",
      " ' Adrenaline     ' ' Harmony       ' ' ArtisticBurst ' ' Radiance      '\n",
      " ' Wonder       ' ' Inspiration  ' ' CulinaryOdyssey ' ' Euphoria     '\n",
      " ' Curiosity  ' ' Resilience   ' ' Immersion ' ' Nostalgia '\n",
      " ' Spark        ' ' Gratitude    ' ' Marvel       ' ' Serenity   '\n",
      " ' Heartbreak    ' ' Loneliness    ' ' Grief      ' ' Despair   '\n",
      " ' Betrayal      ' ' Suffering ' ' EmotionalStorm ' ' Regret        '\n",
      " ' Isolation ' ' Disappointment ' ' LostLove ' ' Melancholy '\n",
      " ' Exhaustion ' ' Sorrow      ' ' Darkness     ' ' Desperation '\n",
      " ' Ruins      ' ' Desolation ' ' Regret ' ' Grief ' ' Heartbreak '\n",
      " ' Betrayal ' ' Resilience ' ' Sorrow ' ' Loss ' ' Heartache '\n",
      " ' Solitude ' ' Joy ' ' Happiness ' ' Enthusiasm ' ' Gratitude '\n",
      " ' Positivity ' ' Kindness ' ' Friendship ' ' Love ' ' Surprise '\n",
      " ' Success ' ' Thrill ' ' Reflection ' ' Enchantment ' ' Exploration '\n",
      " ' Awe ' ' Amazement ' ' Romance ' ' Captivation ' ' Wonder '\n",
      " ' Tranquility ' ' Grandeur ' ' Emotion ' ' Energy ' ' Celebration '\n",
      " ' Charm ' ' Ecstasy ' ' Hope ' ' Creativity ' ' Colorful ' ' Pride '\n",
      " ' Hypnotic ' ' Connection ' ' Iconic ' ' Euphoria ' ' Journey '\n",
      " ' Engagement ' ' Touched ' ' Suspense ' ' Satisfaction ' ' Admiration '\n",
      " ' Triumph ' ' Heartwarming ' ' Obstacle ' ' Sympathy ' ' Pressure '\n",
      " ' Renewed Effort ' ' Miscalculation ' ' Challenge ' ' Solace '\n",
      " ' Breakthrough ' ' Harmony ' ' Joy in Baking ' ' Envisioning History '\n",
      " ' Imagination ' ' Vibrancy ' ' Mesmerizing ' ' Culinary Adventure '\n",
      " ' Winter Magic ' ' Thrilling Journey ' \" Nature's Beauty \"\n",
      " ' Celestial Wonder ' ' Creative Inspiration ' ' Runway Creativity '\n",
      " \" Ocean's Freedom \" ' Whispers of the Past ' ' Boredom ' ' Indifference '\n",
      " ' Disgust ' ' Relief ' ' Positive ' ' Embarrassed ' ' Mischievous '\n",
      " ' Sad ' ' Hate ' ' Bad ' ' Neutral ' ' Happy ']\n"
     ]
    }
   ],
   "source": [
    "distinct_sentiments = df['Sentiment'].unique()\n",
    "print(\"Distinct Sentiments:\", distinct_sentiments)"
   ]
  },
  {
   "cell_type": "code",
   "execution_count": 8,
   "metadata": {
    "id": "7VK9OPpck7NT"
   },
   "outputs": [
    {
     "name": "stdout",
     "output_type": "stream",
     "text": [
      "0      0.8\n",
      "1      0.2\n",
      "2      0.8\n",
      "3      0.8\n",
      "4      0.5\n",
      "      ... \n",
      "727    0.8\n",
      "728    0.8\n",
      "729    0.8\n",
      "730    0.8\n",
      "731    0.8\n",
      "Name: Sentiment, Length: 732, dtype: float64\n"
     ]
    }
   ],
   "source": [
    "#Normalise Sentiment Scores\n",
    "sent_mapping = {\n",
    "    ' Positive  ': 0.8,\n",
    "    ' Negative  ': 0.2,\n",
    "    ' Neutral   ': 0.5,\n",
    "    ' Anger        ': 0.1,\n",
    "    ' Fear         ': 0.3,\n",
    "    ' Sadness      ': 0.2,\n",
    "    ' Disgust      ': 0.1,\n",
    "    ' Happiness    ': 0.8,\n",
    "    ' Joy          ': 0.8,\n",
    "    ' Love         ': 0.9,\n",
    "    ' Amusement    ': 0.7,\n",
    "    ' Enjoyment    ': 0.7,\n",
    "    ' Admiration   ': 0.8,\n",
    "    ' Affection    ': 0.8,\n",
    "    ' Awe          ': 0.8,\n",
    "    ' Disappointed ': 0.3,\n",
    "    ' Surprise     ': 0.7,\n",
    "    ' Acceptance   ': 0.7,\n",
    "    ' Adoration    ': 0.8,\n",
    "    ' Anticipation ': 0.7,\n",
    "    ' Bitter       ': 0.3,\n",
    "    ' Calmness     ': 0.6,\n",
    "    ' Confusion    ': 0.5,\n",
    "    ' Excitement   ': 0.7,\n",
    "    ' Kind         ': 0.7,\n",
    "    ' Pride        ': 0.8,\n",
    "    ' Shame        ': 0.2,\n",
    "    ' Elation       ': 0.8,\n",
    "    ' Euphoria      ': 0.9,\n",
    "    ' Contentment   ': 0.8,\n",
    "    ' Serenity      ': 0.8,\n",
    "    ' Gratitude     ': 0.8,\n",
    "    ' Hope          ': 0.7,\n",
    "    ' Empowerment   ': 0.7,\n",
    "    ' Compassion    ': 0.8,\n",
    "    ' Tenderness    ': 0.8,\n",
    "    ' Arousal       ': 0.7,\n",
    "    ' Enthusiasm    ': 0.7,\n",
    "    ' Fulfillment  ': 0.7,\n",
    "    ' Reverence     ': 0.8,\n",
    "    ' Zest ': 0.7,\n",
    "    ' Contentment ': 0.8,\n",
    "    ' Hopeful ': 0.7,\n",
    "    ' Proud ': 0.8,\n",
    "    ' Grateful ': 0.8,\n",
    "    ' Empathetic ': 0.8,\n",
    "    ' Compassionate ': 0.8,\n",
    "    ' Playful ': 0.7,\n",
    "    ' Free-spirited ': 0.7,\n",
    "    ' Inspired ': 0.7,\n",
    "    ' Confident ': 0.7,\n",
    "    ' Curiosity ': 0.7,\n",
    "    ' Ambivalence ': 0.5,\n",
    "    ' Despair ': 0.2,\n",
    "    ' Bitterness ': 0.3,\n",
    "    ' Yearning ': 0.3,\n",
    "    ' Fearful ': 0.3,\n",
    "    ' Apprehensive ': 0.4,\n",
    "    ' Overwhelmed ': 0.2,\n",
    "    ' Jealous ': 0.3,\n",
    "    ' Devastated ': 0.2,\n",
    "    ' Frustrated ': 0.3,\n",
    "    ' Envious ': 0.3,\n",
    "    ' Dismissive ': 0.3,\n",
    "    ' Awe           ': 0.8,\n",
    "    ' Determination ': 0.7,\n",
    "    ' Nostalgia      ': 0.6,\n",
    "    ' Thrill         ': 0.7,\n",
    "    ' Calmness       ': 0.6,\n",
    "    ' Overwhelmed    ': 0.2,\n",
    "    ' Gratitude  ': 0.8,\n",
    "    ' Bittersweet ': 0.5,\n",
    "    ' Curiosity     ': 0.7,\n",
    "    ' Admiration    ': 0.8,\n",
    "    ' Overjoyed     ': 0.8,\n",
    "    ' Inspiration   ': 0.7,\n",
    "    ' Motivation    ': 0.7,\n",
    "    ' Amusement     ': 0.7,\n",
    "    ' Contemplation ': 0.6,\n",
    "    ' JoyfulReunion ': 0.8,\n",
    "    ' Excitement    ': 0.7,\n",
    "    ' Satisfaction  ': 0.8,\n",
    "    ' Blessed       ': 0.8,\n",
    "    ' Anticipation  ': 0.7,\n",
    "    ' Reflection    ': 0.7,\n",
    "    ' Nostalgia     ': 0.6,\n",
    "    ' Appreciation  ': 0.8,\n",
    "    ' Confidence    ': 0.7,\n",
    "    ' Surprise      ': 0.7,\n",
    "    ' Accomplishment': 0.8,\n",
    "    ' Wonderment    ': 0.7,\n",
    "    ' Optimism      ': 0.7,\n",
    "    ' Pride         ': 0.8,\n",
    "    ' Happiness     ': 0.8,\n",
    "    ' Curiosity   ': 0.7,\n",
    "    ' Enchantment   ': 0.8,\n",
    "    ' Intrigue      ': 0.6,\n",
    "    ' PlayfulJoy    ': 0.8,\n",
    "    ' Mindfulness   ': 0.7,\n",
    "    ' DreamChaser   ': 0.7,\n",
    "    ' Elegance ': 0.7,\n",
    "    ' Whimsy        ': 0.7,\n",
    "    ' Pensive ': 0.5,\n",
    "    ' Thrill       ': 0.7,\n",
    "    ' Harmony    ': 0.7,\n",
    "    ' Creativity   ': 0.7,\n",
    "    ' Radiance    ': 0.7,\n",
    "    ' Wonder     ': 0.7,\n",
    "    ' Rejuvenation ': 0.7,\n",
    "    ' Inspiration ': 0.7,\n",
    "    ' Coziness     ': 0.7,\n",
    "    ' Gratitude  ': 0.8,\n",
    "    ' Adventure ': 0.7,\n",
    "    ' Euphoria   ': 0.9,\n",
    "    ' Awe    ': 0.8,\n",
    "    ' Melodic       ': 0.7,\n",
    "    ' FestiveJoy    ': 0.8,\n",
    "    ' InnerJourney  ': 0.7,\n",
    "    ' Freedom       ': 0.7,\n",
    "    ' Dazzle        ': 0.8,\n",
    "    ' Adrenaline     ': 0.7,\n",
    "    ' Harmony       ': 0.7,\n",
    "    ' ArtisticBurst ': 0.7,\n",
    "    ' Radiance      ': 0.7,\n",
    "    ' Wonder       ': 0.7,\n",
    "    ' Inspiration  ': 0.7,\n",
    "    ' CulinaryOdyssey ': 0.7,\n",
    "    ' Euphoria     ': 0.9,\n",
    "    ' Curiosity  ': 0.7,\n",
    "    ' Resilience   ': 0.7,\n",
    "    ' Immersion ': 0.7,\n",
    "    ' Nostalgia ': 0.6,\n",
    "    ' Spark        ': 0.6,\n",
    "    ' Marvel       ': 0.7,\n",
    "    ' Serenity   ': 0.8,\n",
    "    ' Heartbreak    ': 0.2,\n",
    "    ' Loneliness    ': 0.2,\n",
    "    ' Grief      ': 0.2,\n",
    "    ' Despair   ': 0.2,\n",
    "    ' Betrayal      ': 0.2,\n",
    "    ' Suffering ': 0.2,\n",
    "    ' EmotionalStorm ': 0.3,\n",
    "    ' Regret        ': 0.2,\n",
    "    ' Isolation ': 0.2,\n",
    "    ' Disappointment ': 0.2,\n",
    "    ' LostLove ': 0.2,\n",
    "    ' Melancholy ': 0.2,\n",
    "    ' Exhaustion ': 0.3,\n",
    "    ' Sorrow      ': 0.2,\n",
    "    ' Darkness     ': 0.1,\n",
    "    ' Desperation ': 0.2,\n",
    "    ' Ruins      ': 0.1,\n",
    "    ' Desolation ': 0.2,\n",
    "    ' Grief ': 0.2,\n",
    "    ' Heartbreak ': 0.2,\n",
    "    ' Betrayal ': 0.2,\n",
    "    ' Resilience ': 0.7,\n",
    "    ' Sorrow ': 0.2,\n",
    "    ' Loss ': 0.2,\n",
    "    ' Heartache ': 0.2,\n",
    "    ' Solitude ': 0.2,\n",
    "    ' Happy ': 0.8,\n",
    "    ' Embarrassed ': 0.3,\n",
    "    ' Mischievous ': 0.7,\n",
    "    ' Sad ': 0.2,\n",
    "    ' Hate ': 0.1,\n",
    "    ' Bad ': 0.1,\n",
    "    ' Neutral ': 0.5\n",
    "}\n",
    "#print(df['Sentiment'])\n",
    "df['Sentiment'] = df['Sentiment'].map(sent_mapping)\n",
    "print(df['Sentiment'])\n"
   ]
  },
  {
   "cell_type": "code",
   "execution_count": 9,
   "metadata": {
    "id": "zXusfO7gm50A"
   },
   "outputs": [],
   "source": [
    "#Calculate combined user engagement score\n",
    "#Assigning Weights to different parameters based on their importance adn effectiveness\n",
    "weights = {'Sentiment': 0.4, 'Likes': 0.3, 'Retweets': 0.3}\n",
    "df['Combined_User_Engagement_Score'] = (df['Sentiment']* weights['Sentiment']) + (df['Likes']* weights['Likes']) + (df['Retweets']* weights['Retweets'])"
   ]
  },
  {
   "cell_type": "code",
   "execution_count": 10,
   "metadata": {
    "id": "L9uWXib_e2tz"
   },
   "outputs": [],
   "source": [
    "#Drop Unnecessary Columns\n",
    "df.drop(['Unnamed: 0', 'Text', 'Timestamp', 'User','Platform', 'Country', 'Year', 'Month', 'Day', 'Hour'], axis=1, inplace=True)"
   ]
  },
  {
   "cell_type": "code",
   "execution_count": 11,
   "metadata": {
    "colab": {
     "base_uri": "https://localhost:8080/"
    },
    "id": "Nc4ZO6eRfqEs",
    "outputId": "22bb2184-c163-43bb-8f07-951aaccb5755"
   },
   "outputs": [
    {
     "name": "stdout",
     "output_type": "stream",
     "text": [
      "     Unnamed: 0.1  Sentiment  Hashtags  Retweets     Likes  Time_of_Day  \\\n",
      "0               0        0.8       491  0.285714  0.285714            0   \n",
      "1               1        0.2       674  0.000000  0.000000            0   \n",
      "2               2        0.8       309  0.428571  0.428571            0   \n",
      "3               3        0.8       677  0.085714  0.071429            1   \n",
      "4               4        0.5       158  0.200000  0.214286            1   \n",
      "..            ...        ...       ...       ...       ...          ...   \n",
      "727           728        0.8       600  0.428571  0.414286            1   \n",
      "728           729        0.8       647  0.571429  0.542857            0   \n",
      "729           730        0.8       128  0.485714  0.457143            0   \n",
      "730           731        0.8       173  0.457143  0.471429            1   \n",
      "731           732        0.8       682  0.542857  0.528571            0   \n",
      "\n",
      "     Combined_User_Engagement_Score  \n",
      "0                          0.491429  \n",
      "1                          0.080000  \n",
      "2                          0.577143  \n",
      "3                          0.367143  \n",
      "4                          0.324286  \n",
      "..                              ...  \n",
      "727                        0.572857  \n",
      "728                        0.654286  \n",
      "729                        0.602857  \n",
      "730                        0.598571  \n",
      "731                        0.641429  \n",
      "\n",
      "[732 rows x 7 columns]\n",
      "     Unnamed: 0.1  Sentiment  Hashtags  Retweets     Likes  \\\n",
      "0               0        0.8       491  0.285714  0.285714   \n",
      "1               1        0.2       674  0.000000  0.000000   \n",
      "2               2        0.8       309  0.428571  0.428571   \n",
      "3               3        0.8       677  0.085714  0.071429   \n",
      "4               4        0.5       158  0.200000  0.214286   \n",
      "..            ...        ...       ...       ...       ...   \n",
      "727           728        0.8       600  0.428571  0.414286   \n",
      "728           729        0.8       647  0.571429  0.542857   \n",
      "729           730        0.8       128  0.485714  0.457143   \n",
      "730           731        0.8       173  0.457143  0.471429   \n",
      "731           732        0.8       682  0.542857  0.528571   \n",
      "\n",
      "     Combined_User_Engagement_Score  \n",
      "0                          0.491429  \n",
      "1                          0.080000  \n",
      "2                          0.577143  \n",
      "3                          0.367143  \n",
      "4                          0.324286  \n",
      "..                              ...  \n",
      "727                        0.572857  \n",
      "728                        0.654286  \n",
      "729                        0.602857  \n",
      "730                        0.598571  \n",
      "731                        0.641429  \n",
      "\n",
      "[732 rows x 6 columns]\n",
      "0      0\n",
      "1      0\n",
      "2      0\n",
      "3      1\n",
      "4      1\n",
      "      ..\n",
      "727    1\n",
      "728    0\n",
      "729    0\n",
      "730    1\n",
      "731    0\n",
      "Name: Time_of_Day, Length: 732, dtype: int64\n"
     ]
    }
   ],
   "source": [
    "# Split dataset into features and target variables\n",
    "X = df.drop(['Time_of_Day'], axis=1)\n",
    "y = df['Time_of_Day']\n",
    "print(df)\n",
    "print(X)\n",
    "print(y)"
   ]
  },
  {
   "cell_type": "code",
   "execution_count": 13,
   "metadata": {},
   "outputs": [],
   "source": [
    "# Handle missing values with an imputer\n",
    "imputer = SimpleImputer(strategy='mean')\n",
    "X_imputed = imputer.fit_transform(X)\n",
    "X = panda.DataFrame(X_imputed, columns=X.columns)"
   ]
  },
  {
   "cell_type": "code",
   "execution_count": 14,
   "metadata": {
    "id": "bObk9Exwfq2o"
   },
   "outputs": [],
   "source": [
    "#Training and Testing\n",
    "#Split data into Train and Test Sets\n",
    "X_train, X_test, y_train, y_test = train_test_split(X, y, test_size=0.2, random_state=42)"
   ]
  },
  {
   "cell_type": "code",
   "execution_count": 15,
   "metadata": {
    "colab": {
     "base_uri": "https://localhost:8080/",
     "height": 321
    },
    "id": "VCLPQwo5gQ45",
    "outputId": "63191157-9b40-4e27-a5b0-1fab5c703b08"
   },
   "outputs": [
    {
     "data": {
      "text/html": [
       "<style>#sk-container-id-1 {color: black;background-color: white;}#sk-container-id-1 pre{padding: 0;}#sk-container-id-1 div.sk-toggleable {background-color: white;}#sk-container-id-1 label.sk-toggleable__label {cursor: pointer;display: block;width: 100%;margin-bottom: 0;padding: 0.3em;box-sizing: border-box;text-align: center;}#sk-container-id-1 label.sk-toggleable__label-arrow:before {content: \"▸\";float: left;margin-right: 0.25em;color: #696969;}#sk-container-id-1 label.sk-toggleable__label-arrow:hover:before {color: black;}#sk-container-id-1 div.sk-estimator:hover label.sk-toggleable__label-arrow:before {color: black;}#sk-container-id-1 div.sk-toggleable__content {max-height: 0;max-width: 0;overflow: hidden;text-align: left;background-color: #f0f8ff;}#sk-container-id-1 div.sk-toggleable__content pre {margin: 0.2em;color: black;border-radius: 0.25em;background-color: #f0f8ff;}#sk-container-id-1 input.sk-toggleable__control:checked~div.sk-toggleable__content {max-height: 200px;max-width: 100%;overflow: auto;}#sk-container-id-1 input.sk-toggleable__control:checked~label.sk-toggleable__label-arrow:before {content: \"▾\";}#sk-container-id-1 div.sk-estimator input.sk-toggleable__control:checked~label.sk-toggleable__label {background-color: #d4ebff;}#sk-container-id-1 div.sk-label input.sk-toggleable__control:checked~label.sk-toggleable__label {background-color: #d4ebff;}#sk-container-id-1 input.sk-hidden--visually {border: 0;clip: rect(1px 1px 1px 1px);clip: rect(1px, 1px, 1px, 1px);height: 1px;margin: -1px;overflow: hidden;padding: 0;position: absolute;width: 1px;}#sk-container-id-1 div.sk-estimator {font-family: monospace;background-color: #f0f8ff;border: 1px dotted black;border-radius: 0.25em;box-sizing: border-box;margin-bottom: 0.5em;}#sk-container-id-1 div.sk-estimator:hover {background-color: #d4ebff;}#sk-container-id-1 div.sk-parallel-item::after {content: \"\";width: 100%;border-bottom: 1px solid gray;flex-grow: 1;}#sk-container-id-1 div.sk-label:hover label.sk-toggleable__label {background-color: #d4ebff;}#sk-container-id-1 div.sk-serial::before {content: \"\";position: absolute;border-left: 1px solid gray;box-sizing: border-box;top: 0;bottom: 0;left: 50%;z-index: 0;}#sk-container-id-1 div.sk-serial {display: flex;flex-direction: column;align-items: center;background-color: white;padding-right: 0.2em;padding-left: 0.2em;position: relative;}#sk-container-id-1 div.sk-item {position: relative;z-index: 1;}#sk-container-id-1 div.sk-parallel {display: flex;align-items: stretch;justify-content: center;background-color: white;position: relative;}#sk-container-id-1 div.sk-item::before, #sk-container-id-1 div.sk-parallel-item::before {content: \"\";position: absolute;border-left: 1px solid gray;box-sizing: border-box;top: 0;bottom: 0;left: 50%;z-index: -1;}#sk-container-id-1 div.sk-parallel-item {display: flex;flex-direction: column;z-index: 1;position: relative;background-color: white;}#sk-container-id-1 div.sk-parallel-item:first-child::after {align-self: flex-end;width: 50%;}#sk-container-id-1 div.sk-parallel-item:last-child::after {align-self: flex-start;width: 50%;}#sk-container-id-1 div.sk-parallel-item:only-child::after {width: 0;}#sk-container-id-1 div.sk-dashed-wrapped {border: 1px dashed gray;margin: 0 0.4em 0.5em 0.4em;box-sizing: border-box;padding-bottom: 0.4em;background-color: white;}#sk-container-id-1 div.sk-label label {font-family: monospace;font-weight: bold;display: inline-block;line-height: 1.2em;}#sk-container-id-1 div.sk-label-container {text-align: center;}#sk-container-id-1 div.sk-container {/* jupyter's `normalize.less` sets `[hidden] { display: none; }` but bootstrap.min.css set `[hidden] { display: none !important; }` so we also need the `!important` here to be able to override the default hidden behavior on the sphinx rendered scikit-learn.org. See: https://github.com/scikit-learn/scikit-learn/issues/21755 */display: inline-block !important;position: relative;}#sk-container-id-1 div.sk-text-repr-fallback {display: none;}</style><div id=\"sk-container-id-1\" class=\"sk-top-container\"><div class=\"sk-text-repr-fallback\"><pre>RandomForestClassifier()</pre><b>In a Jupyter environment, please rerun this cell to show the HTML representation or trust the notebook. <br />On GitHub, the HTML representation is unable to render, please try loading this page with nbviewer.org.</b></div><div class=\"sk-container\" hidden><div class=\"sk-item\"><div class=\"sk-estimator sk-toggleable\"><input class=\"sk-toggleable__control sk-hidden--visually\" id=\"sk-estimator-id-1\" type=\"checkbox\" checked><label for=\"sk-estimator-id-1\" class=\"sk-toggleable__label sk-toggleable__label-arrow\">RandomForestClassifier</label><div class=\"sk-toggleable__content\"><pre>RandomForestClassifier()</pre></div></div></div></div></div>"
      ],
      "text/plain": [
       "RandomForestClassifier()"
      ]
     },
     "execution_count": 15,
     "metadata": {},
     "output_type": "execute_result"
    }
   ],
   "source": [
    "#Train the model\n",
    "model = RandomForestClassifier()\n",
    "model.fit(X_train, y_train)"
   ]
  },
  {
   "cell_type": "code",
   "execution_count": 16,
   "metadata": {
    "colab": {
     "base_uri": "https://localhost:8080/",
     "height": 321
    },
    "id": "LKFua02bjdpz",
    "outputId": "22782c93-083e-46f4-eec1-828fb17704c0"
   },
   "outputs": [
    {
     "name": "stdout",
     "output_type": "stream",
     "text": [
      "              precision    recall  f1-score   support\n",
      "\n",
      "           0       0.72      0.83      0.77        86\n",
      "           1       0.69      0.56      0.62        61\n",
      "\n",
      "    accuracy                           0.71       147\n",
      "   macro avg       0.71      0.69      0.69       147\n",
      "weighted avg       0.71      0.71      0.71       147\n",
      "\n"
     ]
    }
   ],
   "source": [
    "#Test the model\n",
    "y_prediction= model.predict(X_test)\n",
    "print(classification_report(y_test,y_prediction))"
   ]
  },
  {
   "cell_type": "code",
   "execution_count": 17,
   "metadata": {
    "colab": {
     "base_uri": "https://localhost:8080/",
     "height": 297
    },
    "id": "xODKtn89j-rb",
    "outputId": "0d3d1165-70cd-4251-adba-c7671f24466b"
   },
   "outputs": [
    {
     "name": "stdout",
     "output_type": "stream",
     "text": [
      "Hashtag for Maximum User Engagement:   #Elation #RareBookDiscovery              \n"
     ]
    }
   ],
   "source": [
    "#Hashtags with maximum user engagement\n",
    "max_engagement_hashtag = df.groupby('Hashtags')['Combined_User_Engagement_Score'].mean().idxmax()\n",
    "print(\"Hashtag for Maximum User Engagement: \", lab_enc.inverse_transform([max_engagement_hashtag])[0])"
   ]
  },
  {
   "cell_type": "code",
   "execution_count": null,
   "metadata": {},
   "outputs": [],
   "source": []
  }
 ],
 "metadata": {
  "colab": {
   "provenance": []
  },
  "kernelspec": {
   "display_name": "Python 3 (ipykernel)",
   "language": "python",
   "name": "python3"
  },
  "language_info": {
   "codemirror_mode": {
    "name": "ipython",
    "version": 3
   },
   "file_extension": ".py",
   "mimetype": "text/x-python",
   "name": "python",
   "nbconvert_exporter": "python",
   "pygments_lexer": "ipython3",
   "version": "3.10.9"
  }
 },
 "nbformat": 4,
 "nbformat_minor": 1
}
